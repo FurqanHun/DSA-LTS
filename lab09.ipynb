{
 "cells": [
  {
   "cell_type": "markdown",
   "metadata": {},
   "source": [
    "# Lab 9\n",
    "## For Loop in Python"
   ]
  },
  {
   "cell_type": "code",
   "execution_count": 9,
   "metadata": {},
   "outputs": [
    {
     "name": "stdout",
     "output_type": "stream",
     "text": [
      "ID: 88, Name: Sibghat\n",
      "ID: 82, Name: Talha\n",
      "ID: 78, Name: Aliyan\n",
      "ID: 86, Name: Hassan\n"
     ]
    }
   ],
   "source": [
    "#q1\n",
    "class_fellows = [\n",
    "    {\"id\": 91, \"name\": \"Yameen\"},\n",
    "    {\"id\": 79, \"name\": \"Sohaib\"},\n",
    "    {\"id\": 101, \"name\": \"Mirza\"},\n",
    "    {\"id\": 88, \"name\": \"Sibghat\"},\n",
    "    {\"id\": 83, \"name\": \"Ahsan\"},\n",
    "    {\"id\": 82, \"name\": \"Talha\"},\n",
    "    {\"id\": 78, \"name\": \"Aliyan\"},\n",
    "    {\"id\": 115, \"name\": \"Basiq\"},\n",
    "    {\"id\": 86, \"name\": \"Hassan\"},\n",
    "    {\"id\": 99, \"name\": \"Sumair\"},\n",
    "    {\"id\": 69, \"name\": \"Shabahat\"}\n",
    "]\n",
    "\n",
    "for fellow in class_fellows:\n",
    "    if fellow[\"id\"] % 2 == 0:\n",
    "        print(f\"ID: {fellow['id']}, Name: {fellow['name']}\")\n",
    "\n",
    "        "
   ]
  },
  {
   "cell_type": "code",
   "execution_count": 3,
   "metadata": {},
   "outputs": [
    {
     "name": "stdout",
     "output_type": "stream",
     "text": [
      "Even IDs:\n",
      "ID: 116, Name: Furqan\n",
      "ID: 88, Name: Sibghat\n",
      "ID: 78, Name: Aliyan\n",
      "ID: 86, Name: Hassan\n",
      "\n",
      "Odd IDs:\n",
      "ID: 91, Name: Yameen\n",
      "ID: 79, Name: Sohaib\n",
      "ID: 101, Name: Mirza\n",
      "ID: 83, Name: Ahsan\n",
      "ID: 83, Name: Talha\n",
      "ID: 115, Name: Basiq\n",
      "ID: 99, Name: Sumair\n",
      "ID: 69, Name: Shabahat\n"
     ]
    }
   ],
   "source": [
    "#q2\n",
    "class_fellows = [\n",
    "    {\"id\": 116, \"name\": \"Furqan\"},\n",
    "    {\"id\": 91, \"name\": \"Yameen\"},\n",
    "    {\"id\": 79, \"name\": \"Sohaib\"},\n",
    "    {\"id\": 101, \"name\": \"Mirza\"},\n",
    "    {\"id\": 88, \"name\": \"Sibghat\"},\n",
    "    {\"id\": 83, \"name\": \"Ahsan\"},\n",
    "    {\"id\": 83, \"name\": \"Talha\"},\n",
    "    {\"id\": 78, \"name\": \"Aliyan\"},\n",
    "    {\"id\": 115, \"name\": \"Basiq\"},\n",
    "    {\"id\": 86, \"name\": \"Hassan\"},\n",
    "    {\"id\": 99, \"name\": \"Sumair\"},\n",
    "    {\"id\": 69, \"name\": \"Shabahat\"}\n",
    "]\n",
    "\n",
    "# Print even IDs\n",
    "print(\"Even IDs:\")\n",
    "for fellow in class_fellows:\n",
    "    if fellow[\"id\"] % 2 == 0:\n",
    "        print(f\"ID: {fellow['id']}, Name: {fellow['name']}\")\n",
    "\n",
    "# Print odd IDs\n",
    "print(\"\\nOdd IDs:\")\n",
    "for fellow in class_fellows:\n",
    "    if fellow[\"id\"] % 2 != 0:\n",
    "        print(f\"ID: {fellow['id']}, Name: {fellow['name']}\")\n"
   ]
  },
  {
   "cell_type": "code",
   "execution_count": 11,
   "metadata": {},
   "outputs": [
    {
     "name": "stdout",
     "output_type": "stream",
     "text": [
      "[3, 6, 9, 12, 15, 18, 21, 24, 27, 30, 33, 36]\n"
     ]
    }
   ],
   "source": [
    "#q3\n",
    "numbers_list = [\n",
    "    (1, 2, 3),\n",
    "    (4, 5, 6),\n",
    "    (7, 8, 9),\n",
    "    (10, 11, 12),\n",
    "    (13, 14, 15),\n",
    "    (16, 17, 18),\n",
    "    (19, 20, 21),\n",
    "    (22, 23, 24),\n",
    "    (25, 26, 27),\n",
    "    (28, 29, 30),\n",
    "    (31, 32, 33),\n",
    "    (34, 35, 36)\n",
    "]\n",
    "\n",
    "last_values = [tup[2] for tup in numbers_list]\n",
    "print(last_values)"
   ]
  },
  {
   "cell_type": "code",
   "execution_count": 16,
   "metadata": {},
   "outputs": [
    {
     "name": "stdout",
     "output_type": "stream",
     "text": [
      "DSA : 80\n",
      "SER : 69\n",
      "PS : 60\n",
      "HCI : 82\n",
      "HRM : 78\n",
      "Total Marks: 369\n"
     ]
    }
   ],
   "source": [
    "#q4\n",
    "semester_courses = {\n",
    "    \"DSA\": 80,\n",
    "    \"SER\": 69,\n",
    "    \"PS\": 60, \n",
    "    \"HCI\": 82,\n",
    "    \"HRM\":78,\n",
    "}\n",
    "total_marks = 0\n",
    "for courses, marks in semester_courses.items():\n",
    "    print(f\"{courses} : {marks}\")\n",
    "\n",
    "for marks in semester_courses.values():\n",
    "    total_marks += marks\n",
    "print(f\"Total Marks: {total_marks}\")"
   ]
  },
  {
   "cell_type": "code",
   "execution_count": null,
   "metadata": {},
   "outputs": [],
   "source": []
  }
 ],
 "metadata": {
  "kernelspec": {
   "display_name": "base",
   "language": "python",
   "name": "python3"
  },
  "language_info": {
   "codemirror_mode": {
    "name": "ipython",
    "version": 3
   },
   "file_extension": ".py",
   "mimetype": "text/x-python",
   "name": "python",
   "nbconvert_exporter": "python",
   "pygments_lexer": "ipython3",
   "version": "3.11.4"
  }
 },
 "nbformat": 4,
 "nbformat_minor": 2
}
