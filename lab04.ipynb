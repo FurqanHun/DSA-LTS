{
 "cells": [
  {
   "cell_type": "code",
   "execution_count": 16,
   "metadata": {},
   "outputs": [
    {
     "data": {
      "text/plain": [
       "['Data Structres & Algorithm',\n",
       " 'Probability & Statistics',\n",
       " 'Software Engineering Requirements',\n",
       " 'Human Resource Management',\n",
       " 'Human & Computer Interactions']"
      ]
     },
     "execution_count": 16,
     "metadata": {},
     "output_type": "execute_result"
    }
   ],
   "source": [
    "#1\n",
    "courses = ['Data Structres & Algorithm', 'Probability & Statistics', 'Software Engineering Requirements', 'Human Resource Management', 'Human & Computer Interactions']\n",
    "courses"
   ]
  },
  {
   "cell_type": "code",
   "execution_count": 17,
   "metadata": {},
   "outputs": [
    {
     "data": {
      "text/plain": [
       "['Data Structres & Algorithm',\n",
       " 'Probability & Statistics',\n",
       " 'Software Engineering Requirements',\n",
       " 'Human Resource Management',\n",
       " 'Human & Computer Interactions',\n",
       " 'Python']"
      ]
     },
     "execution_count": 17,
     "metadata": {},
     "output_type": "execute_result"
    }
   ],
   "source": [
    "#2\n",
    "courses.append('Python')\n",
    "courses"
   ]
  },
  {
   "cell_type": "code",
   "execution_count": 18,
   "metadata": {},
   "outputs": [],
   "source": [
    "#3\n",
    "my_course = []"
   ]
  },
  {
   "cell_type": "code",
   "execution_count": 19,
   "metadata": {},
   "outputs": [
    {
     "data": {
      "text/plain": [
       "['Data Structres & Algorithm',\n",
       " 'Probability & Statistics',\n",
       " 'Software Engineering Requirements',\n",
       " 'Human Resource Management',\n",
       " 'Human & Computer Interactions',\n",
       " 'Python']"
      ]
     },
     "execution_count": 19,
     "metadata": {},
     "output_type": "execute_result"
    }
   ],
   "source": [
    "#4\n",
    "my_course.extend(courses)\n",
    "my_course"
   ]
  },
  {
   "cell_type": "code",
   "execution_count": 20,
   "metadata": {},
   "outputs": [
    {
     "data": {
      "text/plain": [
       "['Data Structres & Algorithm',\n",
       " 'Probability & Statistics',\n",
       " 'Programming',\n",
       " 'Human Resource Management',\n",
       " 'Human & Computer Interactions',\n",
       " 'Python']"
      ]
     },
     "execution_count": 20,
     "metadata": {},
     "output_type": "execute_result"
    }
   ],
   "source": [
    "#5\n",
    "my_course[2] = 'Programming'\n",
    "my_course"
   ]
  },
  {
   "cell_type": "code",
   "execution_count": 21,
   "metadata": {},
   "outputs": [
    {
     "data": {
      "text/plain": [
       "['Data Structres & Algorithm',\n",
       " 'Programming',\n",
       " 'Human Resource Management',\n",
       " 'Human & Computer Interactions',\n",
       " 'Python']"
      ]
     },
     "execution_count": 21,
     "metadata": {},
     "output_type": "execute_result"
    }
   ],
   "source": [
    "#6\n",
    "my_course.remove(my_course[1])\n",
    "my_course"
   ]
  },
  {
   "cell_type": "code",
   "execution_count": 22,
   "metadata": {},
   "outputs": [
    {
     "data": {
      "text/plain": [
       "['Data Structres & Algorithm',\n",
       " 'Math1',\n",
       " 'Human Resource Management',\n",
       " 'Human & Computer Interactions',\n",
       " 'Python']"
      ]
     },
     "execution_count": 22,
     "metadata": {},
     "output_type": "execute_result"
    }
   ],
   "source": [
    "#7\n",
    "my_course[1] = 'Math1'\n",
    "my_course"
   ]
  },
  {
   "cell_type": "code",
   "execution_count": 23,
   "metadata": {},
   "outputs": [
    {
     "data": {
      "text/plain": [
       "['Data Structres & Algorithm',\n",
       " 'Human & Computer Interactions',\n",
       " 'Human Resource Management',\n",
       " 'Math1',\n",
       " 'Python']"
      ]
     },
     "execution_count": 23,
     "metadata": {},
     "output_type": "execute_result"
    }
   ],
   "source": [
    "#8\n",
    "my_course.sort()\n",
    "my_course"
   ]
  },
  {
   "cell_type": "code",
   "execution_count": null,
   "metadata": {},
   "outputs": [],
   "source": []
  }
 ],
 "metadata": {
  "kernelspec": {
   "display_name": "base",
   "language": "python",
   "name": "python3"
  },
  "language_info": {
   "codemirror_mode": {
    "name": "ipython",
    "version": 3
   },
   "file_extension": ".py",
   "mimetype": "text/x-python",
   "name": "python",
   "nbconvert_exporter": "python",
   "pygments_lexer": "ipython3",
   "version": "3.11.4"
  },
  "orig_nbformat": 4
 },
 "nbformat": 4,
 "nbformat_minor": 2
}
