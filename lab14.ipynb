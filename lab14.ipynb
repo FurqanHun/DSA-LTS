{
 "cells": [
  {
   "cell_type": "markdown",
   "metadata": {},
   "source": [
    "# Lab 14\n",
    "## Logics with Functions in python\n"
   ]
  },
  {
   "cell_type": "code",
   "execution_count": 1,
   "metadata": {},
   "outputs": [
    {
     "name": "stdout",
     "output_type": "stream",
     "text": [
      "Original list: [1, 2, 3, 4, 5, 6, 7, 8, 9, 10, 11, 12, 13, 14, 15]\n",
      "Odd numbers: [1, 3, 5, 7, 9, 11, 13, 15]\n"
     ]
    }
   ],
   "source": [
    "#q1\n",
    "def extract_odd_numbers(data):\n",
    "    odd_numbers = [num for num in data if num % 2 != 0]\n",
    "    return odd_numbers\n",
    "\n",
    "user_data = list(range(1, 16))\n",
    "result_odd_numbers = extract_odd_numbers(user_data)\n",
    "\n",
    "print(\"Original list:\", user_data)\n",
    "print(\"Odd numbers:\", result_odd_numbers)\n"
   ]
  }
 ],
 "metadata": {
  "kernelspec": {
   "display_name": "base",
   "language": "python",
   "name": "python3"
  },
  "language_info": {
   "codemirror_mode": {
    "name": "ipython",
    "version": 3
   },
   "file_extension": ".py",
   "mimetype": "text/x-python",
   "name": "python",
   "nbconvert_exporter": "python",
   "pygments_lexer": "ipython3",
   "version": "3.11.4"
  }
 },
 "nbformat": 4,
 "nbformat_minor": 2
}
