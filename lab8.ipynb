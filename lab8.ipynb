{
 "cells": [
  {
   "cell_type": "markdown",
   "metadata": {},
   "source": [
    "# Lab 8\n",
    "## if, elif, and else statements"
   ]
  },
  {
   "cell_type": "code",
   "execution_count": 1,
   "metadata": {},
   "outputs": [
    {
     "name": "stdout",
     "output_type": "stream",
     "text": [
      "Hello Furqan! Nice to meet you!\n"
     ]
    }
   ],
   "source": [
    "# q1\n",
    "name = \"Furqan\"\n",
    "if name == \"Qan\":\n",
    "    print(\"yo Qan! You're awesome!\")\n",
    "elif name == \"FK\":\n",
    "    print(\"sup FK! You're doing great!\")\n",
    "else:\n",
    "    print(f\"Hello {name}! Nice to meet you!\")\n"
   ]
  },
  {
   "cell_type": "code",
   "execution_count": 8,
   "metadata": {},
   "outputs": [
    {
     "name": "stdout",
     "output_type": "stream",
     "text": [
      "3 digit agency says :(... You're exempted from paying the tax\n"
     ]
    }
   ],
   "source": [
    "#q2\n",
    "units = int(input(\"Enter the number of units: \"))\n",
    "if units <= 200:\n",
    "    print(\"3 digit agency says :(... You're exempted from paying the tax\")\n",
    "else:\n",
    "    print(\"You gotta pay the full payment including TAX :O\")"
   ]
  },
  {
   "cell_type": "code",
   "execution_count": 11,
   "metadata": {},
   "outputs": [
    {
     "name": "stdout",
     "output_type": "stream",
     "text": [
      "I'll be waiting for you in Egghead Island!\n"
     ]
    }
   ],
   "source": [
    "#q3\n",
    "location = \"Marine ford\"\n",
    "loc = \"Egghead Island\"\n",
    "\n",
    "if location != loc:\n",
    "    print(f\"I'll be waiting for you in {loc}!\")\n",
    "elif location != \"Wano\":\n",
    "    print(\"I'll be waiting for you in Wano!\")\n",
    "else:\n",
    "    print(f\"You're in {location}. It's gonna be wild!\")\n"
   ]
  },
  {
   "cell_type": "code",
   "execution_count": null,
   "metadata": {},
   "outputs": [],
   "source": []
  }
 ],
 "metadata": {
  "kernelspec": {
   "display_name": "base",
   "language": "python",
   "name": "python3"
  },
  "language_info": {
   "codemirror_mode": {
    "name": "ipython",
    "version": 3
   },
   "file_extension": ".py",
   "mimetype": "text/x-python",
   "name": "python",
   "nbconvert_exporter": "python",
   "pygments_lexer": "ipython3",
   "version": "3.11.4"
  }
 },
 "nbformat": 4,
 "nbformat_minor": 2
}
