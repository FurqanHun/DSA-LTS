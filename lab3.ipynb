{
 "cells": [
  {
   "cell_type": "code",
   "execution_count": 4,
   "id": "a212c74d",
   "metadata": {},
   "outputs": [
    {
     "data": {
      "text/plain": [
       "'thin'"
      ]
     },
     "execution_count": 4,
     "metadata": {},
     "output_type": "execute_result"
    }
   ],
   "source": [
    "# q1\n",
    "a = \"thinktank\"\n",
    "a[0:4]"
   ]
  },
  {
   "cell_type": "code",
   "execution_count": 2,
   "id": "617bde83",
   "metadata": {},
   "outputs": [
    {
     "name": "stdout",
     "output_type": "stream",
     "text": [
      "E\n"
     ]
    }
   ],
   "source": [
    "# q2\n",
    "class_id=\"BSE-22F-116\"\n",
    "alpha = class_id[2]\n",
    "print(alpha)"
   ]
  },
  {
   "cell_type": "code",
   "execution_count": 2,
   "id": "0d9e2590",
   "metadata": {},
   "outputs": [],
   "source": [
    "# q3\n",
    "az=\"ABCDEFGHIJKLMNOPQRSTUVWXYZ\""
   ]
  },
  {
   "cell_type": "code",
   "execution_count": 8,
   "id": "7c1badaf",
   "metadata": {},
   "outputs": [
    {
     "name": "stdout",
     "output_type": "stream",
     "text": [
      "ABCDEFGHIJKLMNOPQRSTUVWXYZ\n"
     ]
    }
   ],
   "source": [
    "# q4\n",
    "print(az)"
   ]
  },
  {
   "cell_type": "code",
   "execution_count": 10,
   "id": "0ffec928",
   "metadata": {},
   "outputs": [
    {
     "data": {
      "text/plain": [
       "'ACEGIKMOQSUWY'"
      ]
     },
     "execution_count": 10,
     "metadata": {},
     "output_type": "execute_result"
    }
   ],
   "source": [
    "# q5\n",
    "az[::2]"
   ]
  },
  {
   "cell_type": "code",
   "execution_count": 12,
   "id": "c0b1d55d",
   "metadata": {},
   "outputs": [
    {
     "data": {
      "text/plain": [
       "'ZYXWVUTSRQPONMLKJIHGFEDCBA'"
      ]
     },
     "execution_count": 12,
     "metadata": {},
     "output_type": "execute_result"
    }
   ],
   "source": [
    "# q6\n",
    "az[::-1]"
   ]
  },
  {
   "cell_type": "code",
   "execution_count": 3,
   "id": "90f8e009",
   "metadata": {},
   "outputs": [
    {
     "data": {
      "text/plain": [
       "'MNOPQRST'"
      ]
     },
     "execution_count": 3,
     "metadata": {},
     "output_type": "execute_result"
    }
   ],
   "source": [
    "# q7\n",
    "az[12:20]"
   ]
  },
  {
   "cell_type": "code",
   "execution_count": 6,
   "id": "64c7d29e",
   "metadata": {},
   "outputs": [
    {
     "data": {
      "text/plain": [
       "'abbcccddddeeeee'"
      ]
     },
     "execution_count": 6,
     "metadata": {},
     "output_type": "execute_result"
    }
   ],
   "source": [
    "# q9\n",
    "a = 'a'\n",
    "b = 'bb'\n",
    "c = 'ccc'\n",
    "d = 'dddd'\n",
    "e = 'eeeee'\n",
    "output = a + b + c + d + e\n",
    "output"
   ]
  },
  {
   "cell_type": "code",
   "execution_count": 13,
   "id": "d56f3665",
   "metadata": {},
   "outputs": [
    {
     "name": "stdout",
     "output_type": "stream",
     "text": [
      "We're learning python in Data Structures & Algorithms\n",
      "\n",
      "\n",
      "Data Structures & Algorithms, Software Engineering Requirements and Probabality and Statistics are important subjects to learn in software engineering\n"
     ]
    }
   ],
   "source": [
    "# q10\n",
    "\n",
    "c1 = 'Data Structures & Algorithms'\n",
    "c2 = 'Software Engineering Requirements'\n",
    "c3 = 'Probabality and Statistics'\n",
    "\n",
    "print(\"We're learning python in {}\".format(c1))\n",
    "print(\"\\n\")\n",
    "print (\"{}, {} and {} are important subjects to learn in software engineering\". format(c1, c2, c3))\n"
   ]
  },
  {
   "cell_type": "code",
   "execution_count": 18,
   "id": "d4b53591",
   "metadata": {},
   "outputs": [
    {
     "name": "stdout",
     "output_type": "stream",
     "text": [
      "['name', 'is', 'Muhammad', 'Furqan', 'Khalil', 'and', \"I'm\", 'currently', 'studying', 'BS', 'in', 'Software', 'Engineering', 'enrolled', 'in', 'Sindh', 'Madressatul', 'Islam']\n"
     ]
    }
   ],
   "source": [
    "# q11\n",
    "intro = \"My name is Muhammad Furqan Khalil and I'm currently studying BS in Software Engineering enrolled in Sindh Madressatul Islam University.\"\n",
    "\n",
    "intro_list = intro.split(\" \")\n",
    "sublist = intro_list[1:-1]\n",
    "print(sublist)"
   ]
  },
  {
   "cell_type": "code",
   "execution_count": 35,
   "id": "84a1dc04",
   "metadata": {},
   "outputs": [
    {
     "name": "stdout",
     "output_type": "stream",
     "text": [
      "Courses: ['Data Structures & Algorithms', 'Software Engineering Requirements', 'Probabality and Statistics', 'Human Resources and Managemen', 'Human and Computer Interactions']\n",
      "\n",
      "Courses in Alphabetical Order: \n",
      "1. Data Structures & Algorithms \n",
      "2. Human and Computer Interactions \n",
      "3. Human Resources and Managemen  \n",
      "4. Probabality and Statistics \n",
      "5. Software Engineering Requirements\n"
     ]
    }
   ],
   "source": [
    "# q12\n",
    "courses = ['Data Structures & Algorithms', 'Software Engineering Requirements', 'Probabality and Statistics', 'Human Resources and Managemen', 'Human and Computer Interactions']\n",
    "print(\"Courses: {}\\n\".format(courses))\n",
    "print(\"Courses in Alphabetical Order: \\n1. {} \\n2. {} \\n3. {}  \\n4. {} \\n5. {}\".format(courses[0], courses[4], courses[3], courses[2], courses[1]))"
   ]
  },
  {
   "cell_type": "code",
   "execution_count": 5,
   "id": "870149da",
   "metadata": {
    "scrolled": true
   },
   "outputs": [
    {
     "name": "stdout",
     "output_type": "stream",
     "text": [
      "Course 1: Data Structures & Algorithms \n",
      "Course 2: Human and Computer Interactions \n",
      "Course 3: Human Resources and Management \n",
      "Course 4: Probability and Statistics \n",
      "Course 5: Software Engineering Requirements\n"
     ]
    }
   ],
   "source": [
    "# q13\n",
    "DSA = 'Data Structures & Algorithms'\n",
    "HCI = 'Human and Computer Interactions'\n",
    "HRM = 'Human Resources and Management'\n",
    "PS = 'Probability and Statistics'\n",
    "SER = 'Software Engineering Requirements'\n",
    "\n",
    "courses = {'c1':DSA, 'c2':HCI, 'c3':HRM, 'c4':PS, 'c5':SER}\n",
    "print(\"Course 1: {c1} \\nCourse 2: {c2} \\nCourse 3: {c3} \\nCourse 4: {c4} \\nCourse 5: {c5}\".format(**courses))"
   ]
  },
  {
   "cell_type": "code",
   "execution_count": 47,
   "id": "433cd34b",
   "metadata": {},
   "outputs": [
    {
     "name": "stdout",
     "output_type": "stream",
     "text": [
      "200.3410\n",
      "0.0006\n",
      "1.5349\n"
     ]
    }
   ],
   "source": [
    "# q14\n",
    "a = 200.340982589\n",
    "b = 40/66611\n",
    "c = 1.534854395\n",
    "\n",
    "print(\"{n:1.4F}\".format(n=a))\n",
    "print(\"{n:1.4F}\".format(n=b))\n",
    "print(\"{n:1.4F}\".format(n=c))"
   ]
  },
  {
   "cell_type": "code",
   "execution_count": null,
   "id": "1d076f61",
   "metadata": {},
   "outputs": [],
   "source": []
  }
 ],
 "metadata": {
  "kernelspec": {
   "display_name": "Python 3 (ipykernel)",
   "language": "python",
   "name": "python3"
  },
  "language_info": {
   "codemirror_mode": {
    "name": "ipython",
    "version": 3
   },
   "file_extension": ".py",
   "mimetype": "text/x-python",
   "name": "python",
   "nbconvert_exporter": "python",
   "pygments_lexer": "ipython3",
   "version": "3.11.4"
  }
 },
 "nbformat": 4,
 "nbformat_minor": 5
}
