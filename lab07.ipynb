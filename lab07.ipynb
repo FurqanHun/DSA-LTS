{
 "cells": [
  {
   "cell_type": "code",
   "execution_count": 1,
   "metadata": {},
   "outputs": [
    {
     "name": "stdout",
     "output_type": "stream",
     "text": [
      "Writing Furqan_lab7.txt\n"
     ]
    }
   ],
   "source": [
    "%%writefile Furqan_lab7.txt\n",
    "HI, My name's Furqan\n",
    "Today i'll tell you why THE ONE PIECE IS REAAAAAAAAAAAALLL!!!!\n",
    "The one piece is real because it is ONE PIECUUU\n",
    "Luffy is him\n",
    "Luffy likes meat\n",
    "Luffy's hands are E rated\n",
    "Zoro uses Santoryu\n",
    "Zoro doesn't know where his left eye is\n",
    "Zoro doesnt know where his right eye is\n",
    "Zoro is lost\n",
    "Zoro is lost in the sauce\n",
    "Shanks is trynna be rat d snitch maybe to preserve the power balance\n",
    "Ace is donut\n",
    "Katakuri loves eating donuts\n",
    "Akainu is the one that made Ace a donut\n",
    "Con D. Oriano is the secret 10th memeber of the straw hat crew\n",
    "Con D. Oriano is the real son of Gol D. Roger\n",
    "Chopper started as drug abuser\n",
    "Now he became the drug dealer\n",
    "Chopper is the one that knocks\n",
    "Mommy crocodile is the one that asks"
   ]
  },
  {
   "cell_type": "code",
   "execution_count": 2,
   "metadata": {},
   "outputs": [
    {
     "name": "stdout",
     "output_type": "stream",
     "text": [
      "HI, My name's Furqan\n",
      "Today i'll tell you why THE ONE PIECE IS REAAAAAAAAAAAALLL!!!!\n",
      "The one piece is real because it is ONE PIECUUU\n",
      "Luffy is him\n",
      "Luffy likes meat\n",
      "Luffy's hands are E rated\n",
      "Zoro uses Santoryu\n",
      "Zoro doesn't know where his left eye is\n",
      "Zoro doesnt know where his right eye is\n",
      "Zoro is lost\n",
      "Zoro is lost in the sauce\n",
      "Shanks is trynna be rat d snitch maybe to preserve the power balance\n",
      "Ace is donut\n",
      "Katakuri loves eating donuts\n",
      "Akainu is the one that made Ace a donut\n",
      "Con D. Oriano is the secret 10th memeber of the straw hat crew\n",
      "Con D. Oriano is the real son of Gol D. Roger\n",
      "Chopper started as drug abuser\n",
      "Now he became the drug dealer\n",
      "Chopper is the one that knocks\n",
      "Mommy crocodile is the one that asks\n",
      "\n"
     ]
    }
   ],
   "source": [
    "fp=open(\"Furqan_lab7.txt\",\"r\")\n",
    "print(fp.read())"
   ]
  },
  {
   "cell_type": "code",
   "execution_count": 3,
   "metadata": {},
   "outputs": [
    {
     "data": {
      "text/plain": [
       "[\"HI, My name's Furqan\\n\",\n",
       " \"Today i'll tell you why THE ONE PIECE IS REAAAAAAAAAAAALLL!!!!\\n\",\n",
       " 'The one piece is real because it is ONE PIECUUU\\n',\n",
       " 'Luffy is him\\n',\n",
       " 'Luffy likes meat\\n',\n",
       " \"Luffy's hands are E rated\\n\",\n",
       " 'Zoro uses Santoryu\\n',\n",
       " \"Zoro doesn't know where his left eye is\\n\",\n",
       " 'Zoro doesnt know where his right eye is\\n',\n",
       " 'Zoro is lost\\n',\n",
       " 'Zoro is lost in the sauce\\n',\n",
       " 'Shanks is trynna be rat d snitch maybe to preserve the power balance\\n',\n",
       " 'Ace is donut\\n',\n",
       " 'Katakuri loves eating donuts\\n',\n",
       " 'Akainu is the one that made Ace a donut\\n',\n",
       " 'Con D. Oriano is the secret 10th memeber of the straw hat crew\\n',\n",
       " 'Con D. Oriano is the real son of Gol D. Roger\\n',\n",
       " 'Chopper started as drug abuser\\n',\n",
       " 'Now he became the drug dealer\\n',\n",
       " 'Chopper is the one that knocks\\n',\n",
       " 'Mommy crocodile is the one that asks\\n']"
      ]
     },
     "execution_count": 3,
     "metadata": {},
     "output_type": "execute_result"
    }
   ],
   "source": [
    "fp=open(\"Furqan_lab7.txt\",\"r\")\n",
    "fp.readlines()"
   ]
  },
  {
   "cell_type": "code",
   "execution_count": null,
   "metadata": {},
   "outputs": [],
   "source": []
  }
 ],
 "metadata": {
  "kernelspec": {
   "display_name": "base",
   "language": "python",
   "name": "python3"
  },
  "language_info": {
   "codemirror_mode": {
    "name": "ipython",
    "version": 3
   },
   "file_extension": ".py",
   "mimetype": "text/x-python",
   "name": "python",
   "nbconvert_exporter": "python",
   "pygments_lexer": "ipython3",
   "version": "3.11.4"
  }
 },
 "nbformat": 4,
 "nbformat_minor": 2
}
