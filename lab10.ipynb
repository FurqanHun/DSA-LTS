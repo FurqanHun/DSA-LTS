{
 "cells": [
  {
   "cell_type": "markdown",
   "metadata": {},
   "source": [
    "# Lab 10\n",
    "## While loop in python"
   ]
  },
  {
   "cell_type": "code",
   "execution_count": 2,
   "metadata": {},
   "outputs": [
    {
     "name": "stdout",
     "output_type": "stream",
     "text": [
      "Current value of x: 12\n",
      "Current value of x: 13\n",
      "Current value of x: 14\n",
      "Current value of x: 15\n",
      "Current value of x: 16\n",
      "Current value of x: 17\n",
      "Current value of x: 18\n",
      "Current value of x: 19\n",
      "we're breaking out of the matrix with this one!\n"
     ]
    }
   ],
   "source": [
    "#q1\n",
    "x = 12\n",
    "\n",
    "while x <= 20:\n",
    "    print(f\"Current value of x: {x}\")\n",
    "    x += 1\n",
    "\n",
    "    if x == 20:\n",
    "        print(\"we're breaking out of the matrix with this one!\")\n",
    "        break\n"
   ]
  },
  {
   "cell_type": "code",
   "execution_count": 6,
   "metadata": {},
   "outputs": [
    {
     "name": "stdout",
     "output_type": "stream",
     "text": [
      "M\n",
      "u\n",
      "h\n",
      "a\n",
      "m\n",
      "m\n",
      "a\n",
      "d\n",
      " \n",
      "F\n",
      "u\n",
      "Breaking the anime verse with this one!\n"
     ]
    }
   ],
   "source": [
    "name = \"Muhammad Furqan Khalil\"\n",
    "length_of_name = len(name)\n",
    "index = 0\n",
    "\n",
    "while index < length_of_name:\n",
    "    letter = name[index]\n",
    "    if index == length_of_name // 2:\n",
    "        print(\"Breaking the anime verse with this one!\")\n",
    "        break\n",
    "    print(letter)\n",
    "    index += 1\n"
   ]
  },
  {
   "cell_type": "code",
   "execution_count": 10,
   "metadata": {},
   "outputs": [
    {
     "name": "stdout",
     "output_type": "stream",
     "text": [
      "d\n",
      "t\n",
      " \n",
      "s\n",
      "t\n",
      "r\n",
      "u\n",
      "c\n",
      "t\n",
      "u\n",
      "r\n",
      "e\n",
      " \n",
      "n\n",
      "d\n",
      " \n",
      "l\n",
      "g\n",
      "o\n",
      "r\n",
      "i\n",
      "t\n",
      "h\n",
      "m\n",
      "s\n"
     ]
    }
   ],
   "source": [
    "#q3\n",
    "string = \"data structure and algorithms\"\n",
    "length_of_string = len(string)\n",
    "index = 0\n",
    "\n",
    "while index < length_of_string:\n",
    "    letter = string[index]\n",
    "    if letter == \"a\":\n",
    "        index += 1\n",
    "        continue\n",
    "    print(letter)\n",
    "    index += 1\n"
   ]
  },
  {
   "cell_type": "code",
   "execution_count": null,
   "metadata": {},
   "outputs": [],
   "source": []
  }
 ],
 "metadata": {
  "kernelspec": {
   "display_name": "base",
   "language": "python",
   "name": "python3"
  },
  "language_info": {
   "codemirror_mode": {
    "name": "ipython",
    "version": 3
   },
   "file_extension": ".py",
   "mimetype": "text/x-python",
   "name": "python",
   "nbconvert_exporter": "python",
   "pygments_lexer": "ipython3",
   "version": "3.11.4"
  }
 },
 "nbformat": 4,
 "nbformat_minor": 2
}
