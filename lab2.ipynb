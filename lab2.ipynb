{
 "cells": [
  {
   "cell_type": "code",
   "execution_count": 13,
   "metadata": {},
   "outputs": [
    {
     "name": "stdout",
     "output_type": "stream",
     "text": [
      "Obtained Marks\n",
      "390\n",
      "percentage\n",
      "78.0\n"
     ]
    }
   ],
   "source": [
    "# Q1.\n",
    "dsa = 81\n",
    "hrm = 85\n",
    "ps = 75\n",
    "sre = 78\n",
    "hci = 71\n",
    "total = 500\n",
    "\n",
    "obtained = dsa + hrm + ps + sre + hci\n",
    "print('Obtained Marks')\n",
    "print(obtained)\n",
    "\n",
    "obtained *= 100\n",
    "per = obtained / total\n",
    "print('percentage')\n",
    "print(per)"
   ]
  },
  {
   "cell_type": "code",
   "execution_count": 47,
   "metadata": {},
   "outputs": [
    {
     "name": "stdout",
     "output_type": "stream",
     "text": [
      "odd\n",
      "Even\n",
      "Even\n"
     ]
    }
   ],
   "source": [
    "a = 101\n",
    "b = 500\n",
    "c = 204\n",
    "\n",
    "a %= 2\n",
    "if a==0:\n",
    "    print('Even')\n",
    "else:\n",
    "    print('odd')\n",
    "b %= 2\n",
    "if b==0:\n",
    "    print('Even')\n",
    "else:\n",
    "    print('odd')\n",
    "c %= 2\n",
    "if c==0:\n",
    "    print('Even')\n",
    "else:\n",
    "    print('odd')"
   ]
  },
  {
   "cell_type": "code",
   "execution_count": 48,
   "metadata": {},
   "outputs": [
    {
     "name": "stdout",
     "output_type": "stream",
     "text": [
      "4500.0\n"
     ]
    }
   ],
   "source": [
    "salary = 30000\n",
    "tax_percentage = 15/100\n",
    "\n",
    "tax = salary * tax_percentage\n",
    "print(tax)"
   ]
  },
  {
   "cell_type": "code",
   "execution_count": 57,
   "metadata": {},
   "outputs": [
    {
     "name": "stdout",
     "output_type": "stream",
     "text": [
      "12.09\n",
      "8.732\n",
      "54.959\n"
     ]
    }
   ],
   "source": [
    "a = 12.087678992\n",
    "b = 8.73235775\n",
    "c = 54.958997382\n",
    "\n",
    "print(round(a,2))\n",
    "print(round(b,3))\n",
    "print(round(c,4))"
   ]
  },
  {
   "cell_type": "code",
   "execution_count": 63,
   "metadata": {},
   "outputs": [
    {
     "name": "stdout",
     "output_type": "stream",
     "text": [
      "<class 'float'> <class 'int'>\n"
     ]
    }
   ],
   "source": [
    "c = 12.4\n",
    "d = 3000\n",
    "print(type(c), type(d))"
   ]
  },
  {
   "cell_type": "code",
   "execution_count": 68,
   "metadata": {},
   "outputs": [
    {
     "name": "stdout",
     "output_type": "stream",
     "text": [
      "6\n"
     ]
    }
   ],
   "source": [
    "con = 6.0\n",
    "\n",
    "con = int(con)\n",
    "print(con)"
   ]
  },
  {
   "cell_type": "code",
   "execution_count": null,
   "metadata": {},
   "outputs": [],
   "source": []
  }
 ],
 "metadata": {
  "kernelspec": {
   "display_name": "Python 3 (ipykernel)",
   "language": "python",
   "name": "python3"
  },
  "language_info": {
   "codemirror_mode": {
    "name": "ipython",
    "version": 3
   },
   "file_extension": ".py",
   "mimetype": "text/x-python",
   "name": "python",
   "nbconvert_exporter": "python",
   "pygments_lexer": "ipython3",
   "version": "3.11.4"
  }
 },
 "nbformat": 4,
 "nbformat_minor": 2
}
