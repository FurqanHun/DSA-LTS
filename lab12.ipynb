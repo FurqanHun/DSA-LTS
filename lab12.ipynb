{
 "cells": [
  {
   "cell_type": "markdown",
   "metadata": {},
   "source": [
    "# Lab 12\n",
    "## List comprehension in python"
   ]
  },
  {
   "cell_type": "code",
   "execution_count": 2,
   "metadata": {},
   "outputs": [
    {
     "name": "stdout",
     "output_type": "stream",
     "text": [
      "['Welcome to the course! In this class, we will learn the basics of DSA', 'Welcome to the course! In this class, we will learn the basics of PF', 'Welcome to the course! In this class, we will learn the basics of OOP']\n"
     ]
    }
   ],
   "source": [
    "#q1\n",
    "courses = [\"DSA\", \"PF\", \"OOP\"]\n",
    "\n",
    "introduction = \"Welcome to the course! In this class, we will learn the basics of\"\n",
    "\n",
    "#list comprehension\n",
    "courses = [introduction + \" \" + course for course in courses]\n",
    "\n",
    "print(courses)\n"
   ]
  },
  {
   "cell_type": "code",
   "execution_count": 4,
   "metadata": {},
   "outputs": [
    {
     "name": "stdout",
     "output_type": "stream",
     "text": [
      "[2, 4, 6, 8, 10, 12, 14, 16, 18, 20, 22, 24, 26, 28, 30, 32, 34, 36, 38, 40, 42, 44, 46, 48, 50, 52, 54, 56, 58, 60, 62, 64, 66, 68, 70, 72, 74, 76, 78, 80, 82, 84, 86, 88, 90, 92, 94, 96, 98, 100]\n"
     ]
    }
   ],
   "source": [
    "#q2\n",
    "even_numbers = [num for num in range(1, 101) if num % 2 == 0]\n",
    "print(even_numbers)"
   ]
  },
  {
   "cell_type": "code",
   "execution_count": 8,
   "metadata": {},
   "outputs": [
    {
     "name": "stdout",
     "output_type": "stream",
     "text": [
      "Original marks:\n",
      "[80, 69, 60, 82, 78]\n",
      "\n",
      "Multiplied result:\n",
      "[160, 240, 320, 400, 480]\n",
      "[138, 207, 276, 345, 414]\n",
      "[120, 180, 240, 300, 360]\n",
      "[164, 246, 328, 410, 492]\n",
      "[156, 234, 312, 390, 468]\n"
     ]
    }
   ],
   "source": [
    "#q3\n",
    "semester_courses_marks = [80, 69, 60, 82, 78]\n",
    "multipliers = [2, 3, 4, 5, 6]\n",
    "\n",
    "# loops to multiply each mark by the previous course numbers\n",
    "result = [mark * multiplier for mark in semester_courses_marks for multiplier in multipliers]\n",
    "\n",
    "# Reshape the result into a matrix (optional)\n",
    "num_courses = len(semester_courses_marks)\n",
    "result_matrix = [result[i:i + num_courses] for i in range(0, len(result), num_courses)]\n",
    "\n",
    "print(\"Original marks:\")\n",
    "print(semester_courses_marks)\n",
    "print(\"\\nMultiplied result:\")\n",
    "for row in result_matrix:\n",
    "    print(row)\n"
   ]
  },
  {
   "cell_type": "code",
   "execution_count": null,
   "metadata": {},
   "outputs": [],
   "source": []
  }
 ],
 "metadata": {
  "kernelspec": {
   "display_name": "base",
   "language": "python",
   "name": "python3"
  },
  "language_info": {
   "codemirror_mode": {
    "name": "ipython",
    "version": 3
   },
   "file_extension": ".py",
   "mimetype": "text/x-python",
   "name": "python",
   "nbconvert_exporter": "python",
   "pygments_lexer": "ipython3",
   "version": "3.11.4"
  }
 },
 "nbformat": 4,
 "nbformat_minor": 2
}
