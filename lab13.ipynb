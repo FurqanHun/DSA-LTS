{
 "cells": [
  {
   "cell_type": "markdown",
   "metadata": {},
   "source": [
    "# Lab 13\n",
    "## Functions in python"
   ]
  },
  {
   "cell_type": "code",
   "execution_count": 1,
   "metadata": {},
   "outputs": [
    {
     "name": "stdout",
     "output_type": "stream",
     "text": [
      "Sashiburidana... Mugiwara!\n"
     ]
    }
   ],
   "source": [
    "#q1\n",
    "def print_and_return(message):\n",
    "    my_string = message\n",
    "    print(my_string)\n",
    "    return my_string\n",
    "\n",
    "result = print_and_return(\"Sashiburidana... Mugiwara!\")\n"
   ]
  },
  {
   "cell_type": "code",
   "execution_count": 2,
   "metadata": {},
   "outputs": [
    {
     "name": "stdout",
     "output_type": "stream",
     "text": [
      "Addition: 15\n",
      "Multiplication: 50\n",
      "Division: 2.0\n",
      "Subtraction: 5\n"
     ]
    }
   ],
   "source": [
    "#q2\n",
    "def perform_operations(num1, num2):\n",
    "    addition_result = num1 + num2\n",
    "    multiplication_result = num1 * num2\n",
    "    division_result = num1 / num2 if num2 != 0 else \"Cannot divide by zero\"\n",
    "    subtraction_result = num1 - num2\n",
    "\n",
    "    return addition_result, multiplication_result, division_result, subtraction_result\n",
    "\n",
    "\n",
    "num1 = 10\n",
    "num2 = 5\n",
    "results = perform_operations(num1, num2)\n",
    "\n",
    "\n",
    "print(f\"Addition: {results[0]}\")\n",
    "print(f\"Multiplication: {results[1]}\")\n",
    "print(f\"Division: {results[2]}\")\n",
    "print(f\"Subtraction: {results[3]}\")\n"
   ]
  },
  {
   "cell_type": "code",
   "execution_count": 3,
   "metadata": {},
   "outputs": [
    {
     "name": "stdout",
     "output_type": "stream",
     "text": [
      "Name: Muhammad Furqan Khalil\n",
      "Courses in Current Semester:\n",
      "1. Programming Fundamentals\n",
      "2. Data Structures and Algorithms\n",
      "3. Object Oriented Programming\n"
     ]
    }
   ],
   "source": [
    "#q3\n",
    "def print_course_info(name, course1, course2, course3):\n",
    "    print(f\"Name: {name}\")\n",
    "    print(f\"Courses in Current Semester:\")\n",
    "    print(f\"1. {course1}\")\n",
    "    print(f\"2. {course2}\")\n",
    "    print(f\"3. {course3}\")\n",
    "\n",
    "my_name = \"Muhammad Furqan Khalil\"\n",
    "course_1 = \"Programming Fundamentals\"\n",
    "course_2 = \"Data Structures and Algorithms\"\n",
    "course_3 = \"Object Oriented Programming\"\n",
    "\n",
    "print_course_info(my_name, course_1, course_2, course_3)\n"
   ]
  },
  {
   "cell_type": "code",
   "execution_count": null,
   "metadata": {},
   "outputs": [],
   "source": []
  }
 ],
 "metadata": {
  "kernelspec": {
   "display_name": "base",
   "language": "python",
   "name": "python3"
  },
  "language_info": {
   "codemirror_mode": {
    "name": "ipython",
    "version": 3
   },
   "file_extension": ".py",
   "mimetype": "text/x-python",
   "name": "python",
   "nbconvert_exporter": "python",
   "pygments_lexer": "ipython3",
   "version": "3.11.4"
  }
 },
 "nbformat": 4,
 "nbformat_minor": 2
}
